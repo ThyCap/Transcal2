{
 "cells": [
  {
   "cell_type": "code",
   "execution_count": null,
   "metadata": {},
   "outputs": [],
   "source": [
    "import numpy as np\n",
    "import matplotlib.pyplot as plt\n"
   ]
  },
  {
   "attachments": {},
   "cell_type": "markdown",
   "metadata": {},
   "source": [
    "$\n",
    "\\begin{cases}\n",
    "q_0 = \\dot{m_1}c_p T_0 \\\\\n",
    "q_1 = \\dot{m_1} c_p T_o + q dA \\\\\n",
    "q_4 = \\dot{m_2} c_p T_4 \\\\\n",
    "q_5 = \\dot{m_2} c_p T_4 - q dA\n",
    "\\end{cases}\n",
    "$"
   ]
  }
 ],
 "metadata": {
  "language_info": {
   "name": "python"
  },
  "orig_nbformat": 4
 },
 "nbformat": 4,
 "nbformat_minor": 2
}
