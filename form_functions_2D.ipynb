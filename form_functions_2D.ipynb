{
 "cells": [
  {
   "cell_type": "code",
   "execution_count": 2,
   "metadata": {},
   "outputs": [],
   "source": [
    "import numpy as np"
   ]
  },
  {
   "cell_type": "code",
   "execution_count": 147,
   "metadata": {},
   "outputs": [],
   "source": [
    "Lx = 1\n",
    "Nx = 4\n",
    "\n",
    "Ly = 1\n",
    "Ny = 4\n",
    "\n",
    "Npoints = Nx*Ny"
   ]
  },
  {
   "cell_type": "code",
   "execution_count": 148,
   "metadata": {},
   "outputs": [],
   "source": [
    "X = np.linspace(0, Lx, Nx, dtype = float)\n",
    "Y = np.linspace(0, Ly, Ny, dtype = float)\n",
    "\n",
    "Xv, Yv = np.meshgrid(X, Y)\n",
    "\n",
    "X = np.reshape(Xv, Npoints)\n",
    "Y = np.reshape(Yv, Npoints)"
   ]
  },
  {
   "cell_type": "code",
   "execution_count": 149,
   "metadata": {},
   "outputs": [],
   "source": [
    "IEN = [\n",
    "    [0, 3, 4],\n",
    "    [1, 0, 4],\n",
    "    [1, 4, 5],\n",
    "    [2, 1, 5],\n",
    "    [3, 6, 7],\n",
    "    [4, 3, 7],\n",
    "    [4, 7, 8],\n",
    "    [5, 4, 8]\n",
    "]"
   ]
  },
  {
   "cell_type": "code",
   "execution_count": null,
   "metadata": {},
   "outputs": [],
   "source": []
  },
  {
   "cell_type": "code",
   "execution_count": 211,
   "metadata": {},
   "outputs": [
    {
     "name": "stdout",
     "output_type": "stream",
     "text": [
      "i, j =   (0, 0)\n",
      "i, j =   (0, 1)\n",
      "i, j =   (1, 0)\n",
      "i, j =   (1, 1)\n",
      "i, j =   (2, 0)\n",
      "i, j =   (2, 1)\n"
     ]
    }
   ],
   "source": [
    "## IEN \n",
    "# 0  ,  nx      ,  nx + 1 : type 1\n",
    "# 0  ,  nx + 1  ,  1      : type 2\n",
    "\n",
    "IEN = [\n",
    "    [0, Nx    , Nx + 1],\n",
    "    [0, Nx + 1, 1     ]\n",
    "]\n",
    "\n",
    "for i in range(Ny - 1):\n",
    "    \n",
    "    for j in range(Nx - 2):\n",
    "        IEN.append([IEN[-2][k] + 1 for k in range(3)])\n",
    "        IEN.append([IEN[-2][k] + 1 for k in range(3)])\n",
    "\n",
    "        print('i, j =  ', (i, j))\n",
    "\n",
    "    if i < Ny - 2:\n",
    "        IEN.append([IEN[0][k] + Nx*(i + 1) for k in range(3)])\n",
    "        IEN.append([IEN[1][k] + Nx*(i + 1) for k in range(3)])\n"
   ]
  },
  {
   "cell_type": "code",
   "execution_count": 212,
   "metadata": {},
   "outputs": [
    {
     "data": {
      "text/plain": [
       "[[0, 4, 5],\n",
       " [0, 5, 1],\n",
       " [1, 5, 6],\n",
       " [1, 6, 2],\n",
       " [2, 6, 7],\n",
       " [2, 7, 3],\n",
       " [4, 8, 9],\n",
       " [4, 9, 5],\n",
       " [5, 9, 10],\n",
       " [5, 10, 6],\n",
       " [6, 10, 11],\n",
       " [6, 11, 7],\n",
       " [8, 12, 13],\n",
       " [8, 13, 9],\n",
       " [9, 13, 14],\n",
       " [9, 14, 10],\n",
       " [10, 14, 15],\n",
       " [10, 15, 11]]"
      ]
     },
     "execution_count": 212,
     "metadata": {},
     "output_type": "execute_result"
    }
   ],
   "source": [
    "IEN"
   ]
  },
  {
   "cell_type": "code",
   "execution_count": 61,
   "metadata": {},
   "outputs": [],
   "source": [
    "#form functions for 2D\n",
    "def IENfunc(IENelem: list):\n",
    "    x_list = [X[IENelem[i]] for i in range(3)]\n",
    "    y_list = [Y[IENelem[i]] for i in range(3)] #find direct slicing of x and y elems\n",
    "\n",
    "    tri_matrix = [[1, X[IENelem[i]], Y[IENelem[i]]] for i in range(3)]\n",
    "\n",
    "    tri_area = abs(np.linalg.det(tri_matrix)/2)\n",
    "\n",
    "    a_list = np.array([x_list[(i + 1)%3]*y_list[(i + 2)%3] - x_list[(i + 2)%3]*y_list[(i + 1)%3] for i in range(3)])/(2*tri_area)\n",
    "    b_list = np.array([y_list[(i + 1)%3] - y_list[(i + 2)%3] for i in range(3)])/(2*tri_area)\n",
    "    c_list = np.array([x_list[(i + 2)%3] - x_list[(i + 1)%3] for i in range(3)])/(2*tri_area)\n",
    "\n",
    "    N_list = np.array([[a_list[i], b_list[i], c_list[i]] for i in range(3)])\n",
    "    \n",
    "    return N_list"
   ]
  },
  {
   "cell_type": "code",
   "execution_count": 62,
   "metadata": {},
   "outputs": [],
   "source": [
    "Lx = 1\n",
    "Nx = 2\n",
    "\n",
    "Ly = 1\n",
    "Ny = 2\n",
    "\n",
    "Lz = 1\n",
    "Nz = 2\n",
    "\n",
    "Npoints = Nx*Ny*Nz"
   ]
  },
  {
   "cell_type": "code",
   "execution_count": 97,
   "metadata": {},
   "outputs": [],
   "source": [
    "#form functions for 3D\n",
    "X = np.linspace(0, Lx, Nx)\n",
    "Y = np.linspace(0, Ly, Ny)\n",
    "Z = np.linspace(0, Lz, Nz)\n",
    "\n",
    "Zv, Xv, Yv = np.meshgrid(Z, X, Y) # the Z, Y, X order is just so Xv is neatly ordered\n",
    "\n",
    "X = np.reshape(Xv, Npoints)\n",
    "Y = np.reshape(Yv, Npoints)\n",
    "Z = np.reshape(Zv, Npoints)\n",
    "\n",
    "IEN3D = [\n",
    "    [0, 1, 3, 7],\n",
    "    [0, 1, 4, 7],\n",
    "    [1, 2, 3, 7],\n",
    "    [1, 2, 6, 7],\n",
    "    [1, 4, 5, 7],\n",
    "    [1, 5, 6, 7],\n",
    "]"
   ]
  },
  {
   "cell_type": "code",
   "execution_count": 134,
   "metadata": {},
   "outputs": [],
   "source": [
    "def IEN3Dfunctet(IEN3Delem: list):\n",
    "    tet_matrix = [[1, X[vertex_idx], Y[vertex_idx], Z[vertex_idx]] for vertex_idx in IEN3Delem]\n",
    "    \n",
    "    tet_matrix_inv = np.linalg.inv(tet_matrix)\n",
    "\n",
    "    # tet_volume = abs(np.linalg.det(tet_matrix)/6)\n",
    "\n",
    "    univector = lambda i : np.array([[i == j] for j in range(4)])\n",
    "\n",
    "    N_list = np.zeros((4, 4))\n",
    "\n",
    "    for i in range(4):\n",
    "        N_list[i] = np.transpose(tet_matrix_inv@univector(i))\n",
    "    \n",
    "    return N_list"
   ]
  }
 ],
 "metadata": {
  "kernelspec": {
   "display_name": "base",
   "language": "python",
   "name": "python3"
  },
  "language_info": {
   "codemirror_mode": {
    "name": "ipython",
    "version": 3
   },
   "file_extension": ".py",
   "mimetype": "text/x-python",
   "name": "python",
   "nbconvert_exporter": "python",
   "pygments_lexer": "ipython3",
   "version": "3.10.9"
  },
  "orig_nbformat": 4
 },
 "nbformat": 4,
 "nbformat_minor": 2
}
