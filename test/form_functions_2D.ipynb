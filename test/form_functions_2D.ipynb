{
 "cells": [
  {
   "cell_type": "code",
   "execution_count": 1,
   "metadata": {},
   "outputs": [],
   "source": [
    "import numpy as np"
   ]
  },
  {
   "attachments": {},
   "cell_type": "markdown",
   "metadata": {},
   "source": [
    "Definições Geométricas"
   ]
  },
  {
   "cell_type": "code",
   "execution_count": 26,
   "metadata": {},
   "outputs": [],
   "source": [
    "Lx = 1\n",
    "Nx = 20\n",
    "\n",
    "Ly = 1\n",
    "Ny = 20\n",
    "\n",
    "Npoints = Nx*Ny"
   ]
  },
  {
   "attachments": {},
   "cell_type": "markdown",
   "metadata": {},
   "source": [
    "Definições do material"
   ]
  },
  {
   "cell_type": "code",
   "execution_count": 27,
   "metadata": {},
   "outputs": [],
   "source": [
    "rho = 1\n",
    "cv = 1\n",
    "alpha = 1"
   ]
  },
  {
   "cell_type": "code",
   "execution_count": 28,
   "metadata": {},
   "outputs": [],
   "source": [
    "X = np.linspace(0, Lx, Nx, dtype = float)\n",
    "Y = np.linspace(0, Ly, Ny, dtype = float)\n",
    "\n",
    "Xv, Yv = np.meshgrid(X, Y)\n",
    "\n",
    "X = np.reshape(Xv, Npoints)\n",
    "Y = np.reshape(Yv, Npoints)"
   ]
  },
  {
   "cell_type": "code",
   "execution_count": 29,
   "metadata": {},
   "outputs": [],
   "source": [
    "## IEN \n",
    "# 0  ,  nx      ,  nx + 1 : type 1\n",
    "# 0  ,  nx + 1  ,  1      : type 2\n",
    "\n",
    "IEN = [\n",
    "    [0, Nx + 1, Nx    ],\n",
    "    [0,      1, Nx + 1]\n",
    "]\n",
    "\n",
    "for i in range(Ny - 1):\n",
    "    \n",
    "    for j in range(Nx - 2):\n",
    "        IEN.append([IEN[-2][k] + 1 for k in range(3)])\n",
    "        IEN.append([IEN[-2][k] + 1 for k in range(3)])\n",
    "\n",
    "    if i < Ny - 2:\n",
    "        IEN.append([IEN[0][k] + Nx*(i + 1) for k in range(3)])\n",
    "        IEN.append([IEN[1][k] + Nx*(i + 1) for k in range(3)])\n"
   ]
  },
  {
   "cell_type": "code",
   "execution_count": 30,
   "metadata": {},
   "outputs": [],
   "source": [
    "#form functions for 2D\n",
    "def IENfunc(K, M, IEN):\n",
    "    for IENelem in IEN:\n",
    "        x_list = [X[IENelem[i]] for i in range(3)]\n",
    "        y_list = [Y[IENelem[i]] for i in range(3)] #find direct slicing of x and y elems\n",
    "\n",
    "        tri_matrix = [[1, X[IENelem[i]], Y[IENelem[i]]] for i in range(3)]\n",
    "\n",
    "        tri_area = abs(np.linalg.det(tri_matrix)/2)\n",
    "\n",
    "        a_list = np.array([x_list[(i + 1)%3]*y_list[(i + 2)%3] - x_list[(i + 2)%3]*y_list[(i + 1)%3] for i in range(3)])/(2*tri_area)\n",
    "        b_list = np.array([y_list[(i + 1)%3] - y_list[(i + 2)%3] for i in range(3)])/(2*tri_area)\n",
    "        c_list = np.array([x_list[(i + 2)%3] - x_list[(i + 1)%3] for i in range(3)])/(2*tri_area)\n",
    "\n",
    "        N_list = np.array([[a_list[i], b_list[i], c_list[i]] for i in range(3)])\n",
    "\n",
    "        melem = tri_area/12*np.array(([2, 1, 1],\n",
    "                                      [1, 2, 1],\n",
    "                                      [1, 1, 2]))\n",
    "        \n",
    "        kxelem = (alpha/(4*tri_area))*np.array([[b_list[i]*b_list[j] for i in range(3)] for j in range(3)])\n",
    "        kyelem = (alpha/(4*tri_area))*np.array([[c_list[i]*c_list[j] for i in range(3)] for j in range(3)])\n",
    "\n",
    "        kelem = kxelem + kyelem\n",
    "\n",
    "        for ilocal in range(3):\n",
    "            iglobal = IENelem[ilocal]\n",
    "\n",
    "            for jlocal in range(3):\n",
    "                jglobal = IENelem[jlocal]\n",
    "\n",
    "                K[iglobal,jglobal] += kelem[ilocal,jlocal]\n",
    "                M[iglobal,jglobal] += melem[ilocal,jlocal]"
   ]
  },
  {
   "cell_type": "code",
   "execution_count": 31,
   "metadata": {},
   "outputs": [
    {
     "name": "stdout",
     "output_type": "stream",
     "text": [
      "[[130321.  -65160.5      0.  ...      0.       0.       0. ]\n",
      " [-65160.5 260642.  -65160.5 ...      0.       0.       0. ]\n",
      " [     0.  -65160.5 260642.  ...      0.       0.       0. ]\n",
      " ...\n",
      " [     0.       0.       0.  ... 260642.  -65160.5      0. ]\n",
      " [     0.       0.       0.  ... -65160.5 260642.  -65160.5]\n",
      " [     0.       0.       0.  ...      0.  -65160.5 130321. ]]\n",
      "[[0.00046168 0.00011542 0.         ... 0.         0.         0.        ]\n",
      " [0.00011542 0.00069252 0.00011542 ... 0.         0.         0.        ]\n",
      " [0.         0.00011542 0.00069252 ... 0.         0.         0.        ]\n",
      " ...\n",
      " [0.         0.         0.         ... 0.00069252 0.00011542 0.        ]\n",
      " [0.         0.         0.         ... 0.00011542 0.00069252 0.00011542]\n",
      " [0.         0.         0.         ... 0.         0.00011542 0.00046168]]\n"
     ]
    }
   ],
   "source": [
    "K  = np.zeros((Npoints, Npoints), dtype = float) \n",
    "M  = np.zeros((Npoints, Npoints), dtype = float)\n",
    "\n",
    "IENfunc(K, M, IEN)\n",
    "\n",
    "print(K)\n",
    "print(M)"
   ]
  },
  {
   "cell_type": "code",
   "execution_count": 32,
   "metadata": {},
   "outputs": [],
   "source": [
    "Lx = 1\n",
    "Nx = 2\n",
    "\n",
    "Ly = 1\n",
    "Ny = 2\n",
    "\n",
    "Lz = 1\n",
    "Nz = 2\n",
    "\n",
    "Npoints = Nx*Ny*Nz"
   ]
  },
  {
   "cell_type": "code",
   "execution_count": 97,
   "metadata": {},
   "outputs": [],
   "source": [
    "#form functions for 3D\n",
    "X = np.linspace(0, Lx, Nx)\n",
    "Y = np.linspace(0, Ly, Ny)\n",
    "Z = np.linspace(0, Lz, Nz)\n",
    "\n",
    "Zv, Xv, Yv = np.meshgrid(Z, X, Y) # the Z, Y, X order is just so Xv is neatly ordered\n",
    "\n",
    "X = np.reshape(Xv, Npoints)\n",
    "Y = np.reshape(Yv, Npoints)\n",
    "Z = np.reshape(Zv, Npoints)\n",
    "\n",
    "IEN3D = [\n",
    "    [0, 1, 3, 7],\n",
    "    [0, 1, 4, 7],\n",
    "    [1, 2, 3, 7],\n",
    "    [1, 2, 6, 7],\n",
    "    [1, 4, 5, 7],\n",
    "    [1, 5, 6, 7],\n",
    "]"
   ]
  },
  {
   "cell_type": "code",
   "execution_count": 134,
   "metadata": {},
   "outputs": [],
   "source": [
    "def IEN3Dfunctet(IEN3Delem: list):\n",
    "    tet_matrix = [[1, X[vertex_idx], Y[vertex_idx], Z[vertex_idx]] for vertex_idx in IEN3Delem]\n",
    "    \n",
    "    tet_matrix_inv = np.linalg.inv(tet_matrix)\n",
    "\n",
    "    # tet_volume = abs(np.linalg.det(tet_matrix)/6)\n",
    "\n",
    "    univector = lambda i : np.array([[i == j] for j in range(4)])\n",
    "\n",
    "    N_list = np.zeros((4, 4))\n",
    "\n",
    "    for i in range(4):\n",
    "        N_list[i] = np.transpose(tet_matrix_inv@univector(i))\n",
    "    \n",
    "    return N_list"
   ]
  }
 ],
 "metadata": {
  "kernelspec": {
   "display_name": "base",
   "language": "python",
   "name": "python3"
  },
  "language_info": {
   "codemirror_mode": {
    "name": "ipython",
    "version": 3
   },
   "file_extension": ".py",
   "mimetype": "text/x-python",
   "name": "python",
   "nbconvert_exporter": "python",
   "pygments_lexer": "ipython3",
   "version": "3.10.10"
  },
  "orig_nbformat": 4
 },
 "nbformat": 4,
 "nbformat_minor": 2
}
